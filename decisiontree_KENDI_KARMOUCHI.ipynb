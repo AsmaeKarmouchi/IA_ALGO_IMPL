{
 "cells": [
  {
   "cell_type": "markdown",
   "metadata": {},
   "source": [
    "<h1><center> Supervised learning : decision tree </center></h1>\n",
    "<h2><center> GL </center></h2> \n",
    "<h3><center> ASMAE KARMOUCHI </center></h3>\n",
    "<h3><center> MOHAMMED AMINE KENDI</center></h3>\n",
    "<h5><center> Academic Year: 2022 - 2023</center></h5>"
   ]
  },
  {
   "cell_type": "code",
   "execution_count": 1,
   "metadata": {},
   "outputs": [],
   "source": [
    "import numpy as np\n",
    "\n",
    "class Node:\n",
    "    def __init__(self, feature_index=None, threshold=None, left=None, right=None, value=None):\n",
    "        self.feature_index = feature_index  # Index de la caractéristique utilisée pour la division\n",
    "        self.threshold = threshold  # Seuil utilisé pour la division\n",
    "        self.left = left  # Sous-arbre gauche (valeurs inférieures ou égales au seuil)\n",
    "        self.right = right  # Sous-arbre droit (valeurs supérieures au seuil)\n",
    "        self.value = value  # Valeur de la feuille (uniquement pour les feuilles)"
   ]
  },
  {
   "cell_type": "code",
   "execution_count": 2,
   "metadata": {},
   "outputs": [],
   "source": [
    "class DecisionTree:\n",
    "    def __init__(self, max_depth=None):\n",
    "        self.max_depth = max_depth\n",
    "\n",
    "    def fit(self, X, y):\n",
    "        self.num_classes = len(set(y))\n",
    "        self.num_features = X.shape[1]\n",
    "        self.tree = self._grow_tree(X, y)\n",
    "\n",
    "    def _grow_tree(self, X, y, depth=0):\n",
    "        num_samples_per_class = [np.sum(y == i) for i in range(self.num_classes)]\n",
    "        predicted_class = np.argmax(num_samples_per_class)\n",
    "        node = Node(value=predicted_class)\n",
    "\n",
    "        # Conditions d'arrêt\n",
    "        if depth < self.max_depth:\n",
    "            best_feature, best_threshold = self._best_criteria(X, y)\n",
    "            if best_feature is not None:\n",
    "                left_indices, right_indices = self._split(X[:, best_feature], best_threshold)\n",
    "                left = self._grow_tree(X[left_indices, :], y[left_indices], depth + 1)\n",
    "                right = self._grow_tree(X[right_indices, :], y[right_indices], depth + 1)\n",
    "                node = Node(feature_index=best_feature, threshold=best_threshold, left=left, right=right)\n",
    "        return node\n",
    "\n",
    "    def _best_criteria(self, X, y):\n",
    "        best_gini = 1\n",
    "        best_feature = None\n",
    "        best_threshold = None\n",
    "\n",
    "        for feature_index in range(self.num_features):\n",
    "            thresholds = np.unique(X[:, feature_index])\n",
    "            for threshold in thresholds:\n",
    "                left_indices, right_indices = self._split(X[:, feature_index], threshold)\n",
    "                if len(left_indices) == 0 or len(right_indices) == 0:\n",
    "                    continue\n",
    "                gini = self._gini_impurity(y[left_indices], y[right_indices])\n",
    "                if gini < best_gini:\n",
    "                    best_gini = gini\n",
    "                    best_feature = feature_index\n",
    "                    best_threshold = threshold\n",
    "\n",
    "        return best_feature, best_threshold\n",
    "\n",
    "    def _split(self, feature, threshold):\n",
    "        left_indices = np.where(feature <= threshold)[0]\n",
    "        right_indices = np.where(feature > threshold)[0]\n",
    "        return left_indices, right_indices\n",
    "\n",
    "    def _gini_impurity(self, left_labels, right_labels):\n",
    "        total_samples = len(left_labels) + len(right_labels)\n",
    "        p_left = len(left_labels) / total_samples\n",
    "        p_right = len(right_labels) / total_samples\n",
    "        gini = 1.0 - p_left**2 - p_right**2\n",
    "        return gini\n",
    "\n",
    "    def _predict_sample(self, x, tree):\n",
    "        if tree.value is not None:\n",
    "            return tree.value\n",
    "        feature_value = x[tree.feature_index]\n",
    "        if feature_value <= tree.threshold:\n",
    "            return self._predict_sample(x, tree.left)\n",
    "        else:\n",
    "            return self._predict_sample(x, tree.right)\n",
    "\n",
    "    def predict(self, X):\n",
    "        y_pred = np.array([self._predict_sample(x, self.tree) for x in X])\n",
    "        return y_pred\n",
    "\n"
   ]
  },
  {
   "cell_type": "markdown",
   "metadata": {},
   "source": [
    "![](destr.png)"
   ]
  },
  {
   "cell_type": "markdown",
   "metadata": {},
   "source": [
    "## Exemple d'utilisation\n",
    "#### Breast Cancer Wisconsin"
   ]
  },
  {
   "cell_type": "code",
   "execution_count": 3,
   "metadata": {},
   "outputs": [
    {
     "name": "stdout",
     "output_type": "stream",
     "text": [
      "Accuracy: 0.6228070175438597\n"
     ]
    }
   ],
   "source": [
    "\n",
    "if __name__ == \"__main__\":\n",
    "    from sklearn.datasets import load_breast_cancer\n",
    "    from sklearn.model_selection import train_test_split\n",
    "    from sklearn.metrics import accuracy_score\n",
    "\n",
    "    data = load_breast_cancer()\n",
    "    X = data.data\n",
    "    y = data.target\n",
    "\n",
    "    X_train, X_test, y_train, y_test = train_test_split(X, y, test_size=0.2, random_state=42)\n",
    "\n",
    "    tree = DecisionTree(max_depth=5)\n",
    "    tree.fit(X_train, y_train)\n",
    "    y_pred = tree.predict(X_test)\n",
    "\n",
    "    accuracy = accuracy_score(y_test, y_pred)\n",
    "    print(\"Accuracy:\", accuracy)\n"
   ]
  }
 ],
 "metadata": {
  "kernelspec": {
   "display_name": "Python 3",
   "language": "python",
   "name": "python3"
  },
  "language_info": {
   "codemirror_mode": {
    "name": "ipython",
    "version": 3
   },
   "file_extension": ".py",
   "mimetype": "text/x-python",
   "name": "python",
   "nbconvert_exporter": "python",
   "pygments_lexer": "ipython3",
   "version": "3.11.2"
  }
 },
 "nbformat": 4,
 "nbformat_minor": 2
}
